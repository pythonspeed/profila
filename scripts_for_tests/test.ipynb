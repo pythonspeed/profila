{
 "cells": [
  {
   "cell_type": "code",
   "execution_count": null,
   "id": "531a799b-8160-4597-8d87-42810631888e",
   "metadata": {},
   "outputs": [],
   "source": [
    "%load_ext profila"
   ]
  },
  {
   "cell_type": "code",
   "execution_count": null,
   "id": "adfe23b1-9a44-467f-9f0c-fd44de2f308f",
   "metadata": {},
   "outputs": [],
   "source": [
    "from numba import njit\n",
    "import numpy as np\n",
    "DATA = np.random.random((1_000_000,))\n",
    "\n",
    "\n",
    "@njit\n",
    "def moving_average(timeseries):\n",
    "    result = np.empty(timeseries.shape, dtype=np.float64)\n",
    "    first_day = timeseries[0]\n",
    "    for i in range(len(timeseries)):\n",
    "        total = 0\n",
    "        if i < 6:\n",
    "            # Fill in missing values for first few days:\n",
    "            total += (6 - i) * first_day\n",
    "        for j in range(max(i - 6, 0), i + 1):\n",
    "            total += timeseries[j]\n",
    "        result[i] = total / 7\n",
    "    return result\n"
   ]
  },
  {
   "cell_type": "code",
   "execution_count": null,
   "id": "2c7001a2-99d4-43e4-980e-d49de53a919e",
   "metadata": {},
   "outputs": [],
   "source": [
    "# Make sure the Numba code is pre-compiled\n",
    "moving_average(DATA)"
   ]
  },
  {
   "cell_type": "code",
   "execution_count": null,
   "id": "a15bbd9b-8af2-40ea-bcf4-73f7b37fc2a1",
   "metadata": {},
   "outputs": [],
   "source": [
    "%%profila\n",
    "for i in range(100):\n",
    "    moving_average(DATA)"
   ]
  }
 ],
 "metadata": {
  "kernelspec": {
   "display_name": "Python 3 (ipykernel)",
   "language": "python",
   "name": "python3"
  },
  "language_info": {
   "codemirror_mode": {
    "name": "ipython",
    "version": 3
   },
   "file_extension": ".py",
   "mimetype": "text/x-python",
   "name": "python",
   "nbconvert_exporter": "python",
   "pygments_lexer": "ipython3",
   "version": "3.10.12"
  }
 },
 "nbformat": 4,
 "nbformat_minor": 5
}
